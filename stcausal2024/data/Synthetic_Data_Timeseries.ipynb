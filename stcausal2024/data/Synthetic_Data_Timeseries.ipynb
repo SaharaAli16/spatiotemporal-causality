{
  "nbformat": 4,
  "nbformat_minor": 0,
  "metadata": {
    "colab": {
      "provenance": [],
      "toc_visible": true
    },
    "kernelspec": {
      "name": "python3",
      "display_name": "Python 3"
    },
    "language_info": {
      "name": "python"
    }
  },
  "cells": [
    {
      "cell_type": "markdown",
      "metadata": {
        "id": "0u1p2Rz6EjmL"
      },
      "source": [
        "#Synthetic Dataset Generation\n",
        "\n",
        "This notebook contains code blocks to generate the synthetic data used for causal discovery. The dimension of the dataset is (100000x4).\n",
        "\n",
        "\n",
        "The datasets \"synthetic_data_v1.csv\", \"synthetic_data_v2.csv\", and \"synthetic_data_v3.csv\" are generated using the cosine function and Gaussian noise distribution. Each of these three datasets has different Signal-to-Noise ratios.\n",
        "\n",
        "\n",
        "The \"synthetic_2nd_dataset.csv\" is another dataset generated from the same structure without the cosine function. The Poisson noise distribution is used for this dataset."
      ]
    },
    {
      "cell_type": "markdown",
      "source": [
        "###Code block for: synthetic_data_v1.csv"
      ],
      "metadata": {
        "id": "RVrHZ-s_eOKE"
      }
    },
    {
      "cell_type": "code",
      "execution_count": null,
      "metadata": {
        "colab": {
          "base_uri": "https://localhost:8080/"
        },
        "id": "NcpJzTqu2kTA",
        "outputId": "ebe830a1-e698-414b-f6df-7c5bbdb0264f"
      },
      "outputs": [
        {
          "output_type": "stream",
          "name": "stdout",
          "text": [
            "100000\n"
          ]
        }
      ],
      "source": [
        "# Code block for: synthetic_data_v1.csv\n",
        "#Size of time-series: t\n",
        "t = 100000\n",
        "\n",
        "#Create noise\n",
        "import numpy as np\n",
        "import pandas as pd\n",
        "import math\n",
        "np.random.seed(1001)\n",
        "np.set_printoptions(suppress=True)\n",
        "noise = np.random.normal(0,1,t)\n",
        "print(noise.size)\n",
        "\n",
        "#Variable 1\n",
        "source1 = np.zeros((t))\n",
        "source1_1st_term = np.zeros((t))\n",
        "source1_noise_term = noise*0.1\n",
        "\n",
        "for i in range(0,t):\n",
        "  if(i<5):\n",
        "    source1_1st_term[i] = np.cos(i/10)\n",
        "    source1[i] = np.cos(i/10) + noise[i]*0.1\n",
        "  else:\n",
        "    source1_1st_term[i] = np.cos(i/10) + np.log(np.abs(source1[i-2] - source1[i-5]) + 1)\n",
        "    source1[i] = np.cos(i/10) + np.log(np.abs(source1[i-2] - source1[i-5]) + 1) + noise[i]*0.1\n",
        "\n",
        "\n",
        "#Variable 2\n",
        "source2 = np.zeros((t))\n",
        "source2_1st_term = np.zeros((t))\n",
        "np.set_printoptions(suppress=True)\n",
        "noise2 = np.random.normal(0,1,t)\n",
        "noise2\n",
        "source2[1] = noise2[1]\n",
        "source2[2] = noise2[2]\n",
        "for x in range(3,t):\n",
        "  if source1[x-1] > 0:\n",
        "    source2_1st_term[x] = 1.2*math.exp(-source1[x-1]*source1[x-1]/2) - .4*math.exp(-source1[x]*source1[x]/2)\n",
        "    source2[x] = 1.2*math.exp(-source1[x-1]*source1[x-1]/2) + noise2[x] - .4*math.exp(-source1[x]*source1[x]/2)\n",
        "  else:\n",
        "    source2_1st_term[x] = -2*math.exp(-source1[x-1]*source1[x-1]) - .4*math.exp(-source1[x]*source1[x]/2)\n",
        "    source2[x] = -2*math.exp(-source1[x-1]*source1[x-1]) + noise2[x] - .4*math.exp(-source1[x]*source1[x]/2)\n",
        "\n",
        "#Variable 3\n",
        "source3 = np.zeros((t))\n",
        "source3_1st_term = np.zeros((t))\n",
        "np.set_printoptions(suppress=True)\n",
        "noise3 = np.random.normal(0,1,t)\n",
        "noise3\n",
        "source3[1] = noise3[1]\n",
        "source3[2] = noise3[2]\n",
        "for x in range(3,t):\n",
        "  source3_1st_term[x] = -1.05*math.exp(-source1[x-1]*source1[x-1]/2)\n",
        "  source3[x] = -1.05*math.exp(-source1[x-1]*source1[x-1]/2) + noise3[x]\n",
        "\n",
        "#Variable 4\n",
        "source4 = np.zeros((t))\n",
        "source4_1st_term = np.zeros((t))\n",
        "source4_cf0 = np.zeros((t))\n",
        "source4_cf1 = np.zeros((t))\n",
        "treat = np.zeros((t))\n",
        "np.set_printoptions(suppress=True)\n",
        "noise4 = np.random.normal(0,1,t)\n",
        "source4[1] = noise4[1] + 10\n",
        "source4[2] = noise4[2] + 10\n",
        "source4_1st_term[1] = 10\n",
        "source4_1st_term[2] = 10\n",
        "source4_cf0[1] = noise4[1] + 10\n",
        "source4_cf0[2] = noise4[2] + 10\n",
        "source4_cf1[1] = noise4[1] + 10\n",
        "source4_cf1[2] = noise4[2] + 10\n",
        "for x in range(3,t):\n",
        "  source4[x] = -1.15*math.exp(-source1[x-1]*source1[x-1]/2) + 0.2*math.sqrt(2)*math.exp(-source4[x-1]*source4[x-1]/2) + 1.35*math.exp(-source3[x-1]*source3[x-1]/2) + noise4[x] - 1.5*math.exp(-source3[x]*source3[x]/2)\n",
        "  source4_1st_term[x] = -1.15*math.exp(-source1[x-1]*source1[x-1]/2) + 0.2*math.sqrt(2)*math.exp(-source4[x-1]*source4[x-1]/2) + 1.35*math.exp(-source3[x-1]*source3[x-1]/2) - 1.5*math.exp(-source3[x]*source3[x]/2)\n",
        "\n",
        "dict={'S1':source1,'S2':source2,'S3':source3,'S4':source4}\n",
        "dataset1_v1=pd.DataFrame(dict)\n",
        "dataset1_v1.to_csv('synthetic_data_v1.csv',header=True,index=False)\n",
        "from google.colab import files\n",
        "files.download( \"synthetic_data_v1.csv\" )"
      ]
    },
    {
      "cell_type": "markdown",
      "source": [
        "###Code block for: synthetic_data_v2.csv"
      ],
      "metadata": {
        "id": "A4-uNkiCeWWl"
      }
    },
    {
      "cell_type": "code",
      "source": [
        "# Code block for: synthetic_data_v2.csv\n",
        "#Size of time-series: t\n",
        "t = 100000\n",
        "\n",
        "#Create noise\n",
        "import numpy as np\n",
        "import pandas as pd\n",
        "import math\n",
        "np.random.seed(1001)\n",
        "np.set_printoptions(suppress=True)\n",
        "noise = np.random.normal(0,1,t)\n",
        "print(noise.size)\n",
        "\n",
        "#Variable 1\n",
        "source1 = np.zeros((t))\n",
        "source1_1st_term = np.zeros((t))\n",
        "source1_noise_term = noise*0.3\n",
        "\n",
        "for i in range(0,t):\n",
        "  if(i<5):\n",
        "    source1_1st_term[i] = np.cos(i/10)\n",
        "    source1[i] = np.cos(i/10) + noise[i]*0.3\n",
        "  else:\n",
        "    source1_1st_term[i] = 1.2 * np.cos(i/10) + 1.2 * np.log(np.abs(source1[i-2] - source1[i-5]) + 1)\n",
        "    source1[i] = 1.2 *  np.cos(i/10) + 1.2 * np.log(np.abs(source1[i-2] - source1[i-5]) + 1) + noise[i]*0.1\n",
        "\n",
        "\n",
        "#Variable 2\n",
        "source2 = np.zeros((t))\n",
        "source2_1st_term = np.zeros((t))\n",
        "np.set_printoptions(suppress=True)\n",
        "noise2 = np.random.normal(0,1,t)\n",
        "noise2 = noise2 /2\n",
        "source2[1] = noise2[1]\n",
        "source2[2] = noise2[2]\n",
        "for x in range(3,t):\n",
        "  if source1[x-1] > 0:\n",
        "    source2_1st_term[x] = 1.5*math.exp(-source1[x-1]*source1[x-1]/2) - 1 *math.exp(-source1[x]*source1[x]/2)\n",
        "    source2[x] = 1.5*math.exp(-source1[x-1]*source1[x-1]/2) + noise2[x] - 1*math.exp(-source1[x]*source1[x]/2)\n",
        "  else:\n",
        "    source2_1st_term[x] = -2.5*math.exp(-source1[x-1]*source1[x-1]) + 1*math.exp(-source1[x]*source1[x]/2)\n",
        "    source2[x] = -2.5*math.exp(-source1[x-1]*source1[x-1]) + noise2[x] + 1*math.exp(-source1[x]*source1[x]/2)\n",
        "\n",
        "#Variable 3\n",
        "source3 = np.zeros((t))\n",
        "source3_1st_term = np.zeros((t))\n",
        "np.set_printoptions(suppress=True)\n",
        "noise3 = np.random.normal(0,1,t)\n",
        "noise3 = noise3/2\n",
        "source3[1] = noise3[1]\n",
        "source3[2] = noise3[2]\n",
        "for x in range(3,t):\n",
        "  source3_1st_term[x] = -0.9*math.exp(-source1[x-1]*source1[x-1]/2)\n",
        "  source3[x] = -0.9*math.exp(-source1[x-1]*source1[x-1]/2) + noise3[x]\n",
        "\n",
        "#Variable 4\n",
        "source4 = np.zeros((t))\n",
        "source4_1st_term = np.zeros((t))\n",
        "source4_cf0 = np.zeros((t))\n",
        "source4_cf1 = np.zeros((t))\n",
        "treat = np.zeros((t))\n",
        "np.set_printoptions(suppress=True)\n",
        "noise4 = np.random.normal(0,1,t)\n",
        "source4[1] = noise4[1] + 10\n",
        "source4[2] = noise4[2] + 10\n",
        "source4_1st_term[1] = 10\n",
        "source4_1st_term[2] = 10\n",
        "source4_cf0[1] = noise4[1] + 10\n",
        "source4_cf0[2] = noise4[2] + 10\n",
        "source4_cf1[1] = noise4[1] + 10\n",
        "source4_cf1[2] = noise4[2] + 10\n",
        "for x in range(3,t):\n",
        "  source4[x] = -4.15*math.exp(-source1[x-1]*source1[x-1]/2) + 1.5*math.sqrt(2)*math.exp(-source4[x-1]*source4[x-1]/2) + 2*math.exp(-source3[x-1]*source3[x-1]/2) + noise4[x] - 1.05*math.exp(-source3[x]*source3[x]/2)\n",
        "  source4_1st_term[x] = -4.15*math.exp(-source1[x-1]*source1[x-1]/2) + 1.5*math.sqrt(2)*math.exp(-source4[x-1]*source4[x-1]/2) + 2*math.exp(-source3[x-1]*source3[x-1]/2) - 1.05*math.exp(-source3[x]*source3[x]/2)\n",
        "\n",
        "\n",
        "dict={'S1':source1,'S2':source2,'S3':source3,'S4':source4}\n",
        "dataset1_v2=pd.DataFrame(dict)\n",
        "dataset1_v2.to_csv('synthetic_data_v2.csv',header=True,index=False)\n",
        "from google.colab import files\n",
        "files.download( \"synthetic_data_v2.csv\" )"
      ],
      "metadata": {
        "colab": {
          "base_uri": "https://localhost:8080/"
        },
        "id": "Kna99ENbKT3F",
        "outputId": "b0590b03-62df-4c68-e3f4-6fe04f6cb0bc"
      },
      "execution_count": null,
      "outputs": [
        {
          "output_type": "stream",
          "name": "stdout",
          "text": [
            "100000\n"
          ]
        }
      ]
    },
    {
      "cell_type": "markdown",
      "source": [
        "##Code block for: synthetic_data_v3.csv"
      ],
      "metadata": {
        "id": "USxubCi0ebk7"
      }
    },
    {
      "cell_type": "code",
      "source": [
        "# Code block for: synthetic_data_v3.csv\n",
        "t = 100000\n",
        "\n",
        "#Create noise\n",
        "import numpy as np\n",
        "import pandas as pd\n",
        "import math\n",
        "np.random.seed(1001)\n",
        "np.set_printoptions(suppress=True)\n",
        "noise = np.random.normal(0,1,t)\n",
        "print(noise.size)\n",
        "\n",
        "#Variable 1\n",
        "source1 = np.zeros((t))\n",
        "source1_1st_term = np.zeros((t))\n",
        "source1_noise_term = noise*0.1\n",
        "#source1[1] = noise[1] + 10\n",
        "#source1[2] = noise[2] + 10\n",
        "#for x in range(3,t):\n",
        "#  source1[x] = 0.125*math.sqrt(2)*math.exp(-source1[x-1]*source1[x-1]/2) + noise[x]\n",
        "\n",
        "for i in range(0,t):\n",
        "  if(i<5):\n",
        "    source1_1st_term[i] = 2 * np.cos(i/10)\n",
        "    source1[i] = 2 * np.cos(i/10) + noise[i]*0.1\n",
        "  else:\n",
        "    source1_1st_term[i] = 2 * np.cos(i/10) + 2 * np.log(np.abs(source1[i-2] - source1[i-5]) + 1)\n",
        "    source1[i] = 2 * np.cos(i/10) + 2 * np.log(np.abs(source1[i-2] - source1[i-5]) + 1) + noise[i]*0.1\n",
        "\n",
        "\n",
        "#Variable 2\n",
        "source2 = np.zeros((t))\n",
        "source2_1st_term = np.zeros((t))\n",
        "np.set_printoptions(suppress=True)\n",
        "noise2 = np.random.normal(0,1,t)\n",
        "noise2\n",
        "source2[1] = noise2[1]\n",
        "source2[2] = noise2[2]\n",
        "for x in range(3,t):\n",
        "  if source1[x-1] > 0:\n",
        "    source2_1st_term[x] = 12*math.exp(-source1[x-1]*source1[x-1]/2)  - 4*math.exp(-source1[x]*source1[x]/2)\n",
        "    source2[x] = 12*math.exp(-source1[x-1]*source1[x-1]/2) + noise2[x]  - 4*math.exp(-source1[x]*source1[x]/2)\n",
        "  else:\n",
        "    source2_1st_term[x] = -12*math.exp(-source1[x-1]*source1[x-1])  - 4*math.exp(-source1[x]*source1[x]/2)\n",
        "    source2[x] = -12*math.exp(-source1[x-1]*source1[x-1]) + noise2[x]  - 4*math.exp(-source1[x]*source1[x]/2)\n",
        "\n",
        "#Variable 3\n",
        "source3 = np.zeros((t))\n",
        "source3_1st_term = np.zeros((t))\n",
        "np.set_printoptions(suppress=True)\n",
        "noise3 = np.random.normal(0,1,t) #np.random.normal(-0.1,0.1,t)\n",
        "noise3 = noise3/5\n",
        "source3[1] = noise3[1]\n",
        "source3[2] = noise3[2]\n",
        "for x in range(3,t):\n",
        "  source3_1st_term[x] = -10.5*math.exp(-source1[x-1]*source1[x-1]/2) # - 8.5 *math.exp(-source1[x]*source1[x]/2)\n",
        "  source3[x] = -10.5*math.exp(-source1[x-1]*source1[x-1]/2) + noise3[x] # - 8.5*math.exp(-source1[x]*source1[x]/2)\n",
        "\n",
        "#Variable 4\n",
        "source4 = np.zeros((t))\n",
        "source4_1st_term = np.zeros((t))\n",
        "source4_cf0 = np.zeros((t))\n",
        "source4_cf1 = np.zeros((t))\n",
        "treat = np.zeros((t))\n",
        "np.set_printoptions(suppress=True)\n",
        "noise4 = np.random.normal(0,1,t)\n",
        "source4[1] = noise4[1] + 10\n",
        "source4[2] = noise4[2] + 10\n",
        "source4_1st_term[1] = 10\n",
        "source4_1st_term[2] = 10\n",
        "source4_cf0[1] = noise4[1] + 10\n",
        "source4_cf0[2] = noise4[2] + 10\n",
        "source4_cf1[1] = noise4[1] + 10\n",
        "source4_cf1[2] = noise4[2] + 10\n",
        "for x in range(3,t):\n",
        "  source4[x] = -11.5*math.exp(-source1[x-1]*source1[x-1]/2) + 1.2*math.sqrt(2)*math.exp(-source4[x-1]*source4[x-1]/2) + 7.5*math.exp(-source3[x-1]*source3[x-1]/2)- 5*math.exp(-source3[x]*source3[x]/2) + noise4[x]\n",
        "  source4_1st_term[x] = -11.5*math.exp(-source1[x-1]*source1[x-1]/2) + 1.2*math.sqrt(2)*math.exp(-source4[x-1]*source4[x-1]/2) + 7.5*math.exp(-source3[x-1]*source3[x-1]/2)- 5*math.exp(-source3[x]*source3[x]/2)\n",
        "\n",
        "\n",
        "dict={'S1':source1,'S2':source2,'S3':source3,'S4':source4}\n",
        "dataset1_v3=pd.DataFrame(dict)\n",
        "dataset1_v3.to_csv('synthetic_data_v3.csv',header=True,index=False)\n",
        "from google.colab import files\n",
        "files.download( \"synthetic_data_v3.csv\" )"
      ],
      "metadata": {
        "colab": {
          "base_uri": "https://localhost:8080/"
        },
        "id": "u3me_B5zJFM7",
        "outputId": "e562074c-154e-4166-dfe0-0b8a23818c98"
      },
      "execution_count": null,
      "outputs": [
        {
          "output_type": "stream",
          "name": "stdout",
          "text": [
            "100000\n"
          ]
        }
      ]
    },
    {
      "cell_type": "markdown",
      "source": [
        "##Code block for: synthetic_2nd_dataset.csv"
      ],
      "metadata": {
        "id": "62GnY_oCedcT"
      }
    },
    {
      "cell_type": "code",
      "source": [
        "# Code block for: synthetic_2nd_dataset.csv\n",
        "# This dataset does not contain the Cosine function and Poisson Noise distribution is used here.\n",
        "\n",
        "#Size of time-series: t\n",
        "t = 100000\n",
        "\n",
        "#Create noise\n",
        "import numpy as np\n",
        "import pandas as pd\n",
        "\n",
        "np.random.seed(1001)\n",
        "np.set_printoptions(suppress=True)\n",
        "noise = np.random.poisson(lam=1.0, size=(t)) #np.random.exponential(scale=1.0, size=(t)) # np.random.normal(0,1,t)\n",
        "noise = noise\n",
        "print(noise.size)\n",
        "#Variable 1\n",
        "source1 = np.zeros((t))\n",
        "source1_1st_term = np.zeros((t))\n",
        "import math\n",
        "source1[0] = noise[0] +10\n",
        "source1[1] = noise[1] +10\n",
        "source1[2] = noise[2] +10\n",
        "for x in range(3,t):\n",
        "  #print(x)\n",
        "  if(x<5):\n",
        "    source1_1st_term[x] = 0.5*math.sqrt(2)*math.exp(-source1[x-2]*source1[x-2]/2)\n",
        "    source1[x] = 0.5*math.sqrt(2)*math.exp(-source1[x-2]*source1[x-2]/2) + noise[x]\n",
        "  else:\n",
        "    #print((source1[x-5]*source1[x-5])*(-source1[x-2]*source1[x-2])/2)\n",
        "    source1_1st_term[x] = 0.5*math.sqrt(2)*math.exp((source1[x-5]*source1[x-5])*(-source1[x-2]*source1[x-2])/2) #2*math.sqrt(2)*math.exp(-source1[x-5]*source1[x-5]/2)\n",
        "    source1[x] = 0.5*math.sqrt(2)*math.exp((source1[x-5]*source1[x-5])*(-source1[x-2]*source1[x-2])/2) + noise[x]\n",
        "\n",
        "#Variable 2\n",
        "source2 = np.zeros((t))\n",
        "source2_1st_term = np.zeros((t))\n",
        "np.set_printoptions(suppress=True)\n",
        "noise2 = np.random.poisson(lam=1.0, size=(t)) # np.random.normal(0,1,t)\n",
        "source2[1] = noise2[1]\n",
        "source2[2] = noise2[2]\n",
        "for x in range(3,t):\n",
        "  if source1[x-1] > 0:\n",
        "    source2_1st_term[x] = 2.2*math.exp(-source1[x-1]*source1[x-1]/2)+ 0.5*math.exp(-source1[x]*source1[x]/2)\n",
        "    source2[x] = 2.2*math.exp(-source1[x-1]*source1[x-1]/2) + noise2[x]+ 0.5*math.exp(-source1[x]*source1[x]/2)\n",
        "  else:\n",
        "    source2_1st_term[x] = -2*math.exp(-source1[x-1]*source1[x-1])+ 0.5*math.exp(-source1[x]*source1[x]/2)\n",
        "    source2[x] = -2*math.exp(-source1[x-1]*source1[x-1]) + noise2[x]+ 0.5*math.exp(-source1[x]*source1[x]/2)\n",
        "\n",
        "#Variable 3\n",
        "source3 = np.zeros((t))\n",
        "source3_1st_term = np.zeros((t))\n",
        "np.set_printoptions(suppress=True)\n",
        "noise3 = np.random.poisson(lam=1.0, size=(t)) # np.random.normal(0,1,t)\n",
        "noise3 = noise3 /2\n",
        "source3[1] = noise3[1]\n",
        "source3[2] = noise3[2]\n",
        "for x in range(3,t):\n",
        "  source3_1st_term[x] = -5.05*math.exp(-source1[x-1]*source1[x-1]/2)\n",
        "  source3[x] = -5.05*math.exp(-source1[x-1]*source1[x-1]/2) + noise3[x]\n",
        "\n",
        "#Variable 4\n",
        "source4 = np.zeros((t))\n",
        "source4_1st_term = np.zeros((t))\n",
        "np.set_printoptions(suppress=True)\n",
        "noise4 = np.random.poisson(lam=1.0, size=(t)) # np.random.normal(0,1,t)\n",
        "noise4 = noise4 /2\n",
        "source4[1] = noise4[1] + 10\n",
        "source4[2] = noise4[2] + 10\n",
        "for x in range(3,t):\n",
        "  source4_1st_term[x] = -1.15*math.exp(-source1[x-1]*source1[x-1]/2) + 1.5*math.sqrt(2)*math.exp(-source4[x-1]*source4[x-1]/2) + 2.35*math.exp(-source3[x-1]*source3[x-1]/2) + 3*math.exp(-source3[x]*source3[x]/2)\n",
        "  source4[x] = -1.15*math.exp(-source1[x-1]*source1[x-1]/2) + 1.5*math.sqrt(2)*math.exp(-source4[x-1]*source4[x-1]/2) + 2.35*math.exp(-source3[x-1]*source3[x-1]/2) + noise4[x] + 3*math.exp(-source3[x]*source3[x]/2)\n",
        "\n",
        "\n",
        "#combining data\n",
        "dict={'S1':source1,'S2':source2,'S3':source3,'S4':source4}\n",
        "data=pd.DataFrame(dict)\n",
        "data.to_csv('synthetic_2nd_dataset.csv',header=True,index=False)\n",
        "from google.colab import files\n",
        "files.download( \"synthetic_2nd_dataset.csv\" )"
      ],
      "metadata": {
        "colab": {
          "base_uri": "https://localhost:8080/",
          "height": 35
        },
        "id": "E7tULI2_cJ5b",
        "outputId": "a801d325-8143-4a28-9596-cf0db5132a1d"
      },
      "execution_count": null,
      "outputs": [
        {
          "output_type": "stream",
          "name": "stdout",
          "text": [
            "100000\n"
          ]
        },
        {
          "output_type": "display_data",
          "data": {
            "text/plain": [
              "<IPython.core.display.Javascript object>"
            ],
            "application/javascript": [
              "\n",
              "    async function download(id, filename, size) {\n",
              "      if (!google.colab.kernel.accessAllowed) {\n",
              "        return;\n",
              "      }\n",
              "      const div = document.createElement('div');\n",
              "      const label = document.createElement('label');\n",
              "      label.textContent = `Downloading \"${filename}\": `;\n",
              "      div.appendChild(label);\n",
              "      const progress = document.createElement('progress');\n",
              "      progress.max = size;\n",
              "      div.appendChild(progress);\n",
              "      document.body.appendChild(div);\n",
              "\n",
              "      const buffers = [];\n",
              "      let downloaded = 0;\n",
              "\n",
              "      const channel = await google.colab.kernel.comms.open(id);\n",
              "      // Send a message to notify the kernel that we're ready.\n",
              "      channel.send({})\n",
              "\n",
              "      for await (const message of channel.messages) {\n",
              "        // Send a message to notify the kernel that we're ready.\n",
              "        channel.send({})\n",
              "        if (message.buffers) {\n",
              "          for (const buffer of message.buffers) {\n",
              "            buffers.push(buffer);\n",
              "            downloaded += buffer.byteLength;\n",
              "            progress.value = downloaded;\n",
              "          }\n",
              "        }\n",
              "      }\n",
              "      const blob = new Blob(buffers, {type: 'application/binary'});\n",
              "      const a = document.createElement('a');\n",
              "      a.href = window.URL.createObjectURL(blob);\n",
              "      a.download = filename;\n",
              "      div.appendChild(a);\n",
              "      a.click();\n",
              "      div.remove();\n",
              "    }\n",
              "  "
            ]
          },
          "metadata": {}
        },
        {
          "output_type": "display_data",
          "data": {
            "text/plain": [
              "<IPython.core.display.Javascript object>"
            ],
            "application/javascript": [
              "download(\"download_43fc0aa3-60b1-4815-b6c4-2c01a578f4b2\", \"synthetic_2nd_dataset.csv\", 5947871)"
            ]
          },
          "metadata": {}
        }
      ]
    },
    {
      "cell_type": "markdown",
      "source": [
        "##Code block for: synthetic_3nd_dataset.csv"
      ],
      "metadata": {
        "id": "u7XRMjcERH8o"
      }
    },
    {
      "cell_type": "code",
      "source": [
        "# Code block for: synthetic_3rd_dataset.csv\n",
        "\n",
        "np.random.seed(101)\n",
        "T = 5000\n",
        "int_T = np.expand_dims(np.arange(T), axis=1)\n",
        "x1 = np.random.randn(T,1)å\n",
        "noise1 = 0.5*np.random.randn(T,1)\n",
        "for i in range(0,T):\n",
        "  if(i<5):\n",
        "    x1[i] = x1[i]\n",
        "  else:\n",
        "    x1[i] = 0.5*x1[i-5] + 0.5*x1[i-2] + noise1[i]\n",
        "\n",
        "x2 = 0.8*x1 + 1.5*np.sin(int_T/50) + 0.5*np.random.randn(T,1)\n",
        "noise2 = 0.5*np.random.randn(T,1)\n",
        "for i in range(1,T):\n",
        "  x2[i] = 0.1*x1[i] + 0.7*x1[i-1] + 1.5*np.sin(int_T[i]/50)+noise2[i]\n",
        "\n",
        "x3 = 0.8*x1 + 0.5*np.random.randn(T,1)\n",
        "noise3 = 0.5*np.random.randn(T,1)\n",
        "for i in range(1,T):\n",
        "  x3[i] = 0.8*x1[i-1] +noise3[i]\n",
        "\n",
        "\n",
        "x4 = 0.8*x3 + (np.sin(int_T/50)+np.sin(int_T/20)) + 0.5*np.random.randn(T,1)\n",
        "noise4 = 0.5*np.random.randn(T,1)\n",
        "for i in range(1,T):\n",
        "  x4[i] = 0.2*x4[i-1] + 0.4*x3[i] + 0.4*x3[i-1] + 0.4*x1[i-1] + (np.sin(int_T[i]/50)+np.sin(int_T[i]/20)) +noise4[i]\n",
        "\n",
        "\n",
        "#combining data\n",
        "dict={'S1':x1.reshape(-1),'S2':x2.reshape(-1),'S3':x3.reshape(-1),'S4':x4.reshape(-1)}\n",
        "data=pd.DataFrame(dict)\n",
        "data.to_csv('synthetic_3rd_dataset.csv',header=True,index=False)\n",
        "from google.colab import files\n",
        "files.download( \"synthetic_3rd_dataset.csv\" )"
      ],
      "metadata": {
        "id": "6RrSNLY9RmF0"
      },
      "execution_count": null,
      "outputs": []
    },
    {
      "cell_type": "markdown",
      "source": [
        "## Signal-to-Noise Ratio Function\n",
        "\n",
        "This function calculates the signal-to-noise ratio for synthetic datasets."
      ],
      "metadata": {
        "id": "U_IgIvjAd0dy"
      }
    },
    {
      "cell_type": "code",
      "execution_count": null,
      "metadata": {
        "id": "ht28wSEpTGZm"
      },
      "outputs": [],
      "source": [
        "def singalToNoiseRatio(signal, noise):\n",
        "  signal_sqrt = np.sum(np.sqrt(signal ** 2))/(signal.size-1)\n",
        "  noise_sqrt = np.sum(np.sqrt(noise ** 2))/(noise.size-1)\n",
        "  snr= 10*np.log10((signal_sqrt-noise_sqrt)/noise_sqrt)\n",
        "  return snr, signal_sqrt/noise_sqrt"
      ]
    },
    {
      "cell_type": "code",
      "execution_count": null,
      "metadata": {
        "colab": {
          "base_uri": "https://localhost:8080/"
        },
        "id": "OuxJE4eAQoJg",
        "outputId": "caa934ec-3267-41b7-d521-e3cd9f7b3ac5"
      },
      "outputs": [
        {
          "output_type": "stream",
          "name": "stdout",
          "text": [
            "SNR S1 ans Noise1:  (8.70483354314273, 8.42135752534625)\n",
            "SNR S2 ans Noise2:  (-4.176634128501737, 1.3822404002386717)\n",
            "SNR S3 ans Noise3:  (-19.235810957720858, 1.0119239158988502)\n",
            "SNR S4 ans Noise4:  (nan, 0.5563634926522134)\n"
          ]
        },
        {
          "output_type": "stream",
          "name": "stderr",
          "text": [
            "<ipython-input-32-5965101f490e>:4: RuntimeWarning: invalid value encountered in log10\n",
            "  snr= 10*np.log10((signal_sqrt-noise_sqrt)/noise_sqrt)\n"
          ]
        }
      ],
      "source": [
        "#Synthetic data V1\n",
        "print(\"SNR S1 ans Noise1: \" , singalToNoiseRatio(source1_1st_term, source1_noise_term))\n",
        "print(\"SNR S2 ans Noise2: \" , singalToNoiseRatio(source2_1st_term, noise2))\n",
        "print(\"SNR S3 ans Noise3: \" , singalToNoiseRatio(source3_1st_term, noise3))\n",
        "print(\"SNR S4 ans Noise4: \" , singalToNoiseRatio(source4_1st_term, noise4))"
      ]
    },
    {
      "cell_type": "code",
      "source": [
        "#Synthetic data V2\n",
        "print(\"SNR S1 ans Noise1: \" , singalToNoiseRatio(source1_1st_term, source1_noise_term))\n",
        "print(\"SNR S2 ans Noise2: \" , singalToNoiseRatio(source2_1st_term, noise2))\n",
        "print(\"SNR S3 ans Noise3: \" , singalToNoiseRatio(source3_1st_term, noise3))\n",
        "print(\"SNR S4 ans Noise4: \" , singalToNoiseRatio(source4_1st_term, noise4))"
      ],
      "metadata": {
        "colab": {
          "base_uri": "https://localhost:8080/"
        },
        "id": "GedlNyDZOAgj",
        "outputId": "babddc5d-2f49-436c-e0ad-5a08d38abed8"
      },
      "execution_count": null,
      "outputs": [
        {
          "output_type": "stream",
          "name": "stdout",
          "text": [
            "SNR S1 ans Noise1:  (2.8094835835680705, 2.90962617279614)\n",
            "SNR S2 ans Noise2:  (2.141274244812823, 2.637296843204321)\n",
            "SNR S3 ans Noise3:  (-0.2677353778508692, 1.9402134556759307)\n",
            "SNR S4 ans Noise4:  (nan, 0.5554897667903126)\n"
          ]
        },
        {
          "output_type": "stream",
          "name": "stderr",
          "text": [
            "<ipython-input-32-5965101f490e>:4: RuntimeWarning: invalid value encountered in log10\n",
            "  snr= 10*np.log10((signal_sqrt-noise_sqrt)/noise_sqrt)\n"
          ]
        }
      ]
    },
    {
      "cell_type": "code",
      "source": [
        "#Synthetic data V3\n",
        "print(\"SNR S1 ans Noise1: \" , singalToNoiseRatio(source1_1st_term, source1_noise_term))\n",
        "print(\"SNR S2 ans Noise2: \" , singalToNoiseRatio(source2_1st_term, noise2))\n",
        "print(\"SNR S3 ans Noise3: \" , singalToNoiseRatio(source3_1st_term, noise3))\n",
        "print(\"SNR S4 ans Noise4: \" , singalToNoiseRatio(source4_1st_term, noise4))"
      ],
      "metadata": {
        "colab": {
          "base_uri": "https://localhost:8080/"
        },
        "id": "rsWg2hmTOGP9",
        "outputId": "0f81b37d-eeb4-48e2-c7d1-ae7a3cde9784"
      },
      "execution_count": null,
      "outputs": [
        {
          "output_type": "stream",
          "name": "stdout",
          "text": [
            "SNR S1 ans Noise1:  (12.78881137758191, 20.00558044193817)\n",
            "SNR S2 ans Noise2:  (6.871483267128649, 5.865733590890596)\n",
            "SNR S3 ans Noise3:  (14.404411581376081, 28.570278817565065)\n",
            "SNR S4 ans Noise4:  (9.67326368651241, 10.275265899723895)\n"
          ]
        }
      ]
    },
    {
      "cell_type": "markdown",
      "source": [
        "#Process"
      ],
      "metadata": {
        "id": "sYGYFSYHwHZ8"
      }
    },
    {
      "cell_type": "code",
      "source": [
        "import numpy as np\n",
        "import pandas as pd"
      ],
      "metadata": {
        "id": "5pgDKCdxwJmA"
      },
      "execution_count": null,
      "outputs": []
    },
    {
      "cell_type": "code",
      "source": [
        "data = pd.read_csv('/content/df_2D_TKE_New_100Z_July-06 (1).csv')"
      ],
      "metadata": {
        "id": "fevsG5GVwNZS"
      },
      "execution_count": null,
      "outputs": []
    },
    {
      "cell_type": "code",
      "source": [
        "data.columns"
      ],
      "metadata": {
        "colab": {
          "base_uri": "https://localhost:8080/"
        },
        "id": "Md-7olzXwPd7",
        "outputId": "38865fa8-ff20-47e8-9ad9-67b3a93188f3"
      },
      "execution_count": null,
      "outputs": [
        {
          "output_type": "execute_result",
          "data": {
            "text/plain": [
              "Index(['Unnamed: 0', 'CSP_TKE_RS', 'CSP_TKE_SH', 'CSP_TKE_BU', 'CSP_TKE_TR',\n",
              "       'CSP_TKE_DI', 'CSP_TKE_SGS', 'CSP_TKE', 'CSP_TKE_TEND', 'CSP_P'],\n",
              "      dtype='object')"
            ]
          },
          "metadata": {},
          "execution_count": 38
        }
      ]
    },
    {
      "cell_type": "code",
      "source": [
        "data1 = data[['CSP_TKE_SH', 'CSP_TKE_BU', 'CSP_TKE', 'CSP_TKE_TEND']]"
      ],
      "metadata": {
        "id": "28ocAUOZwR8x"
      },
      "execution_count": null,
      "outputs": []
    },
    {
      "cell_type": "code",
      "source": [
        "data1.columns"
      ],
      "metadata": {
        "colab": {
          "base_uri": "https://localhost:8080/"
        },
        "id": "QH_FN1r_wW9B",
        "outputId": "3bc90494-4d7e-4ec0-8797-ee82f5d24ecb"
      },
      "execution_count": null,
      "outputs": [
        {
          "output_type": "execute_result",
          "data": {
            "text/plain": [
              "Index(['CSP_TKE_SH', 'CSP_TKE_BU', 'CSP_TKE', 'CSP_TKE_TEND'], dtype='object')"
            ]
          },
          "metadata": {},
          "execution_count": 40
        }
      ]
    },
    {
      "cell_type": "code",
      "source": [
        "data1.to_csv('TKE_data.csv',header=True,index=False)"
      ],
      "metadata": {
        "id": "kSDnxXGywZFh"
      },
      "execution_count": null,
      "outputs": []
    },
    {
      "cell_type": "code",
      "source": [
        "data2 = pd.read_csv('/content/TKE_data.csv')\n",
        "data2.iloc[:5,:5]"
      ],
      "metadata": {
        "colab": {
          "base_uri": "https://localhost:8080/",
          "height": 206
        },
        "id": "jC1GI8_fwm_Z",
        "outputId": "cc3b1129-5a89-4b6d-bb73-4c70e83c0074"
      },
      "execution_count": null,
      "outputs": [
        {
          "output_type": "execute_result",
          "data": {
            "text/plain": [
              "     CSP_TKE_SH    CSP_TKE_BU       CSP_TKE  CSP_TKE_TEND\n",
              "0  0.000000e+00  0.000000e+00  0.000000e+00  0.000000e+00\n",
              "1  0.000000e+00 -5.481064e-12  2.893937e-09 -5.481064e-12\n",
              "2 -2.872043e-11  9.935044e-11  1.174000e-08  4.190957e-11\n",
              "3 -2.279047e-11  1.211548e-10  1.449416e-08  7.557389e-11\n",
              "4  5.889356e-12  1.926259e-11  1.389811e-08  3.104130e-11"
            ],
            "text/html": [
              "\n",
              "  <div id=\"df-02e4e245-53ee-446c-9a0a-357a0c9ddd47\" class=\"colab-df-container\">\n",
              "    <div>\n",
              "<style scoped>\n",
              "    .dataframe tbody tr th:only-of-type {\n",
              "        vertical-align: middle;\n",
              "    }\n",
              "\n",
              "    .dataframe tbody tr th {\n",
              "        vertical-align: top;\n",
              "    }\n",
              "\n",
              "    .dataframe thead th {\n",
              "        text-align: right;\n",
              "    }\n",
              "</style>\n",
              "<table border=\"1\" class=\"dataframe\">\n",
              "  <thead>\n",
              "    <tr style=\"text-align: right;\">\n",
              "      <th></th>\n",
              "      <th>CSP_TKE_SH</th>\n",
              "      <th>CSP_TKE_BU</th>\n",
              "      <th>CSP_TKE</th>\n",
              "      <th>CSP_TKE_TEND</th>\n",
              "    </tr>\n",
              "  </thead>\n",
              "  <tbody>\n",
              "    <tr>\n",
              "      <th>0</th>\n",
              "      <td>0.000000e+00</td>\n",
              "      <td>0.000000e+00</td>\n",
              "      <td>0.000000e+00</td>\n",
              "      <td>0.000000e+00</td>\n",
              "    </tr>\n",
              "    <tr>\n",
              "      <th>1</th>\n",
              "      <td>0.000000e+00</td>\n",
              "      <td>-5.481064e-12</td>\n",
              "      <td>2.893937e-09</td>\n",
              "      <td>-5.481064e-12</td>\n",
              "    </tr>\n",
              "    <tr>\n",
              "      <th>2</th>\n",
              "      <td>-2.872043e-11</td>\n",
              "      <td>9.935044e-11</td>\n",
              "      <td>1.174000e-08</td>\n",
              "      <td>4.190957e-11</td>\n",
              "    </tr>\n",
              "    <tr>\n",
              "      <th>3</th>\n",
              "      <td>-2.279047e-11</td>\n",
              "      <td>1.211548e-10</td>\n",
              "      <td>1.449416e-08</td>\n",
              "      <td>7.557389e-11</td>\n",
              "    </tr>\n",
              "    <tr>\n",
              "      <th>4</th>\n",
              "      <td>5.889356e-12</td>\n",
              "      <td>1.926259e-11</td>\n",
              "      <td>1.389811e-08</td>\n",
              "      <td>3.104130e-11</td>\n",
              "    </tr>\n",
              "  </tbody>\n",
              "</table>\n",
              "</div>\n",
              "    <div class=\"colab-df-buttons\">\n",
              "\n",
              "  <div class=\"colab-df-container\">\n",
              "    <button class=\"colab-df-convert\" onclick=\"convertToInteractive('df-02e4e245-53ee-446c-9a0a-357a0c9ddd47')\"\n",
              "            title=\"Convert this dataframe to an interactive table.\"\n",
              "            style=\"display:none;\">\n",
              "\n",
              "  <svg xmlns=\"http://www.w3.org/2000/svg\" height=\"24px\" viewBox=\"0 -960 960 960\">\n",
              "    <path d=\"M120-120v-720h720v720H120Zm60-500h600v-160H180v160Zm220 220h160v-160H400v160Zm0 220h160v-160H400v160ZM180-400h160v-160H180v160Zm440 0h160v-160H620v160ZM180-180h160v-160H180v160Zm440 0h160v-160H620v160Z\"/>\n",
              "  </svg>\n",
              "    </button>\n",
              "\n",
              "  <style>\n",
              "    .colab-df-container {\n",
              "      display:flex;\n",
              "      gap: 12px;\n",
              "    }\n",
              "\n",
              "    .colab-df-convert {\n",
              "      background-color: #E8F0FE;\n",
              "      border: none;\n",
              "      border-radius: 50%;\n",
              "      cursor: pointer;\n",
              "      display: none;\n",
              "      fill: #1967D2;\n",
              "      height: 32px;\n",
              "      padding: 0 0 0 0;\n",
              "      width: 32px;\n",
              "    }\n",
              "\n",
              "    .colab-df-convert:hover {\n",
              "      background-color: #E2EBFA;\n",
              "      box-shadow: 0px 1px 2px rgba(60, 64, 67, 0.3), 0px 1px 3px 1px rgba(60, 64, 67, 0.15);\n",
              "      fill: #174EA6;\n",
              "    }\n",
              "\n",
              "    .colab-df-buttons div {\n",
              "      margin-bottom: 4px;\n",
              "    }\n",
              "\n",
              "    [theme=dark] .colab-df-convert {\n",
              "      background-color: #3B4455;\n",
              "      fill: #D2E3FC;\n",
              "    }\n",
              "\n",
              "    [theme=dark] .colab-df-convert:hover {\n",
              "      background-color: #434B5C;\n",
              "      box-shadow: 0px 1px 3px 1px rgba(0, 0, 0, 0.15);\n",
              "      filter: drop-shadow(0px 1px 2px rgba(0, 0, 0, 0.3));\n",
              "      fill: #FFFFFF;\n",
              "    }\n",
              "  </style>\n",
              "\n",
              "    <script>\n",
              "      const buttonEl =\n",
              "        document.querySelector('#df-02e4e245-53ee-446c-9a0a-357a0c9ddd47 button.colab-df-convert');\n",
              "      buttonEl.style.display =\n",
              "        google.colab.kernel.accessAllowed ? 'block' : 'none';\n",
              "\n",
              "      async function convertToInteractive(key) {\n",
              "        const element = document.querySelector('#df-02e4e245-53ee-446c-9a0a-357a0c9ddd47');\n",
              "        const dataTable =\n",
              "          await google.colab.kernel.invokeFunction('convertToInteractive',\n",
              "                                                    [key], {});\n",
              "        if (!dataTable) return;\n",
              "\n",
              "        const docLinkHtml = 'Like what you see? Visit the ' +\n",
              "          '<a target=\"_blank\" href=https://colab.research.google.com/notebooks/data_table.ipynb>data table notebook</a>'\n",
              "          + ' to learn more about interactive tables.';\n",
              "        element.innerHTML = '';\n",
              "        dataTable['output_type'] = 'display_data';\n",
              "        await google.colab.output.renderOutput(dataTable, element);\n",
              "        const docLink = document.createElement('div');\n",
              "        docLink.innerHTML = docLinkHtml;\n",
              "        element.appendChild(docLink);\n",
              "      }\n",
              "    </script>\n",
              "  </div>\n",
              "\n",
              "\n",
              "<div id=\"df-33c11564-7769-48c1-9c98-9484b61ee278\">\n",
              "  <button class=\"colab-df-quickchart\" onclick=\"quickchart('df-33c11564-7769-48c1-9c98-9484b61ee278')\"\n",
              "            title=\"Suggest charts\"\n",
              "            style=\"display:none;\">\n",
              "\n",
              "<svg xmlns=\"http://www.w3.org/2000/svg\" height=\"24px\"viewBox=\"0 0 24 24\"\n",
              "     width=\"24px\">\n",
              "    <g>\n",
              "        <path d=\"M19 3H5c-1.1 0-2 .9-2 2v14c0 1.1.9 2 2 2h14c1.1 0 2-.9 2-2V5c0-1.1-.9-2-2-2zM9 17H7v-7h2v7zm4 0h-2V7h2v10zm4 0h-2v-4h2v4z\"/>\n",
              "    </g>\n",
              "</svg>\n",
              "  </button>\n",
              "\n",
              "<style>\n",
              "  .colab-df-quickchart {\n",
              "      --bg-color: #E8F0FE;\n",
              "      --fill-color: #1967D2;\n",
              "      --hover-bg-color: #E2EBFA;\n",
              "      --hover-fill-color: #174EA6;\n",
              "      --disabled-fill-color: #AAA;\n",
              "      --disabled-bg-color: #DDD;\n",
              "  }\n",
              "\n",
              "  [theme=dark] .colab-df-quickchart {\n",
              "      --bg-color: #3B4455;\n",
              "      --fill-color: #D2E3FC;\n",
              "      --hover-bg-color: #434B5C;\n",
              "      --hover-fill-color: #FFFFFF;\n",
              "      --disabled-bg-color: #3B4455;\n",
              "      --disabled-fill-color: #666;\n",
              "  }\n",
              "\n",
              "  .colab-df-quickchart {\n",
              "    background-color: var(--bg-color);\n",
              "    border: none;\n",
              "    border-radius: 50%;\n",
              "    cursor: pointer;\n",
              "    display: none;\n",
              "    fill: var(--fill-color);\n",
              "    height: 32px;\n",
              "    padding: 0;\n",
              "    width: 32px;\n",
              "  }\n",
              "\n",
              "  .colab-df-quickchart:hover {\n",
              "    background-color: var(--hover-bg-color);\n",
              "    box-shadow: 0 1px 2px rgba(60, 64, 67, 0.3), 0 1px 3px 1px rgba(60, 64, 67, 0.15);\n",
              "    fill: var(--button-hover-fill-color);\n",
              "  }\n",
              "\n",
              "  .colab-df-quickchart-complete:disabled,\n",
              "  .colab-df-quickchart-complete:disabled:hover {\n",
              "    background-color: var(--disabled-bg-color);\n",
              "    fill: var(--disabled-fill-color);\n",
              "    box-shadow: none;\n",
              "  }\n",
              "\n",
              "  .colab-df-spinner {\n",
              "    border: 2px solid var(--fill-color);\n",
              "    border-color: transparent;\n",
              "    border-bottom-color: var(--fill-color);\n",
              "    animation:\n",
              "      spin 1s steps(1) infinite;\n",
              "  }\n",
              "\n",
              "  @keyframes spin {\n",
              "    0% {\n",
              "      border-color: transparent;\n",
              "      border-bottom-color: var(--fill-color);\n",
              "      border-left-color: var(--fill-color);\n",
              "    }\n",
              "    20% {\n",
              "      border-color: transparent;\n",
              "      border-left-color: var(--fill-color);\n",
              "      border-top-color: var(--fill-color);\n",
              "    }\n",
              "    30% {\n",
              "      border-color: transparent;\n",
              "      border-left-color: var(--fill-color);\n",
              "      border-top-color: var(--fill-color);\n",
              "      border-right-color: var(--fill-color);\n",
              "    }\n",
              "    40% {\n",
              "      border-color: transparent;\n",
              "      border-right-color: var(--fill-color);\n",
              "      border-top-color: var(--fill-color);\n",
              "    }\n",
              "    60% {\n",
              "      border-color: transparent;\n",
              "      border-right-color: var(--fill-color);\n",
              "    }\n",
              "    80% {\n",
              "      border-color: transparent;\n",
              "      border-right-color: var(--fill-color);\n",
              "      border-bottom-color: var(--fill-color);\n",
              "    }\n",
              "    90% {\n",
              "      border-color: transparent;\n",
              "      border-bottom-color: var(--fill-color);\n",
              "    }\n",
              "  }\n",
              "</style>\n",
              "\n",
              "  <script>\n",
              "    async function quickchart(key) {\n",
              "      const quickchartButtonEl =\n",
              "        document.querySelector('#' + key + ' button');\n",
              "      quickchartButtonEl.disabled = true;  // To prevent multiple clicks.\n",
              "      quickchartButtonEl.classList.add('colab-df-spinner');\n",
              "      try {\n",
              "        const charts = await google.colab.kernel.invokeFunction(\n",
              "            'suggestCharts', [key], {});\n",
              "      } catch (error) {\n",
              "        console.error('Error during call to suggestCharts:', error);\n",
              "      }\n",
              "      quickchartButtonEl.classList.remove('colab-df-spinner');\n",
              "      quickchartButtonEl.classList.add('colab-df-quickchart-complete');\n",
              "    }\n",
              "    (() => {\n",
              "      let quickchartButtonEl =\n",
              "        document.querySelector('#df-33c11564-7769-48c1-9c98-9484b61ee278 button');\n",
              "      quickchartButtonEl.style.display =\n",
              "        google.colab.kernel.accessAllowed ? 'block' : 'none';\n",
              "    })();\n",
              "  </script>\n",
              "</div>\n",
              "    </div>\n",
              "  </div>\n"
            ]
          },
          "metadata": {},
          "execution_count": 42
        }
      ]
    }
  ]
}