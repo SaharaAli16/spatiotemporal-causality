{
  "nbformat": 4,
  "nbformat_minor": 0,
  "metadata": {
    "colab": {
      "provenance": [],
      "include_colab_link": true
    },
    "kernelspec": {
      "name": "python3",
      "display_name": "Python 3"
    }
  },
  "cells": [
    {
      "cell_type": "markdown",
      "metadata": {
        "id": "view-in-github",
        "colab_type": "text"
      },
      "source": [
        "<a href=\"https://colab.research.google.com/github/SaharaAli16/spatiotemporal-causality/blob/main/stcausal2024%20/methods/Causal_Inference_Simple_Example.ipynb\" target=\"_parent\"><img src=\"https://colab.research.google.com/assets/colab-badge.svg\" alt=\"Open In Colab\"/></a>"
      ]
    },
    {
      "cell_type": "markdown",
      "metadata": {
        "id": "5T-ZQw6DrqjK"
      },
      "source": [
        "## Causal Effect Estimation using Observational Data\n",
        "\n",
        "In this notebook, we will see how can we estimate the causal effect from observational data.\n",
        "\n",
        "Here are the steps that will be involved in this notebook.\n",
        "1. Load necessary libraries\n",
        "2. Specify the problem and the causal graph\n",
        "3. Generate data set\n",
        "4. Causal effect estimation and analysis"
      ]
    },
    {
      "cell_type": "markdown",
      "metadata": {
        "id": "lYJvzjLttQt1"
      },
      "source": [
        "---\n",
        "# 1. Load necessary libraries\n",
        "---"
      ]
    },
    {
      "cell_type": "code",
      "metadata": {
        "colab": {
          "base_uri": "https://localhost:8080/"
        },
        "id": "eyOmia4hhpb7",
        "outputId": "4031accf-c3b3-43d3-f5a3-93926ead0d14"
      },
      "source": [
        "import pandas as pd\n",
        "import numpy as np\n",
        "import matplotlib.pyplot as plt\n",
        "from sklearn.linear_model import LinearRegression\n",
        "from sklearn.linear_model import LogisticRegression\n",
        "from sklearn.ensemble import RandomForestClassifier\n",
        "from xgboost import XGBClassifier\n",
        "!pip install graphviz\n",
        "!apt install libgraphviz-dev\n",
        "!pip install pygraphviz\n",
        "\n",
        "import networkx as nx\n",
        "from networkx.drawing.nx_agraph import graphviz_layout, to_agraph\n",
        "import pygraphviz as pgv"
      ],
      "execution_count": null,
      "outputs": [
        {
          "output_type": "stream",
          "name": "stdout",
          "text": [
            "Looking in indexes: https://pypi.org/simple, https://us-python.pkg.dev/colab-wheels/public/simple/\n",
            "Requirement already satisfied: graphviz in /usr/local/lib/python3.7/dist-packages (0.10.1)\n",
            "Reading package lists... Done\n",
            "Building dependency tree       \n",
            "Reading state information... Done\n",
            "The following package was automatically installed and is no longer required:\n",
            "  libnvidia-common-460\n",
            "Use 'apt autoremove' to remove it.\n",
            "The following additional packages will be installed:\n",
            "  libgail-common libgail18 libgtk2.0-0 libgtk2.0-bin libgtk2.0-common\n",
            "  libgvc6-plugins-gtk libxdot4\n",
            "Suggested packages:\n",
            "  gvfs\n",
            "The following NEW packages will be installed:\n",
            "  libgail-common libgail18 libgraphviz-dev libgtk2.0-0 libgtk2.0-bin\n",
            "  libgtk2.0-common libgvc6-plugins-gtk libxdot4\n",
            "0 upgraded, 8 newly installed, 0 to remove and 22 not upgraded.\n",
            "Need to get 2,120 kB of archives.\n",
            "After this operation, 7,128 kB of additional disk space will be used.\n",
            "Get:1 http://archive.ubuntu.com/ubuntu bionic/main amd64 libgtk2.0-common all 2.24.32-1ubuntu1 [125 kB]\n",
            "Get:2 http://archive.ubuntu.com/ubuntu bionic/main amd64 libgtk2.0-0 amd64 2.24.32-1ubuntu1 [1,769 kB]\n",
            "Get:3 http://archive.ubuntu.com/ubuntu bionic/main amd64 libgail18 amd64 2.24.32-1ubuntu1 [14.2 kB]\n",
            "Get:4 http://archive.ubuntu.com/ubuntu bionic/main amd64 libgail-common amd64 2.24.32-1ubuntu1 [112 kB]\n",
            "Get:5 http://archive.ubuntu.com/ubuntu bionic/universe amd64 libxdot4 amd64 2.40.1-2 [15.7 kB]\n",
            "Get:6 http://archive.ubuntu.com/ubuntu bionic/universe amd64 libgvc6-plugins-gtk amd64 2.40.1-2 [18.2 kB]\n",
            "Get:7 http://archive.ubuntu.com/ubuntu bionic/universe amd64 libgraphviz-dev amd64 2.40.1-2 [57.3 kB]\n",
            "Get:8 http://archive.ubuntu.com/ubuntu bionic/main amd64 libgtk2.0-bin amd64 2.24.32-1ubuntu1 [7,536 B]\n",
            "Fetched 2,120 kB in 3s (777 kB/s)\n",
            "Selecting previously unselected package libgtk2.0-common.\n",
            "(Reading database ... 123941 files and directories currently installed.)\n",
            "Preparing to unpack .../0-libgtk2.0-common_2.24.32-1ubuntu1_all.deb ...\n",
            "Unpacking libgtk2.0-common (2.24.32-1ubuntu1) ...\n",
            "Selecting previously unselected package libgtk2.0-0:amd64.\n",
            "Preparing to unpack .../1-libgtk2.0-0_2.24.32-1ubuntu1_amd64.deb ...\n",
            "Unpacking libgtk2.0-0:amd64 (2.24.32-1ubuntu1) ...\n",
            "Selecting previously unselected package libgail18:amd64.\n",
            "Preparing to unpack .../2-libgail18_2.24.32-1ubuntu1_amd64.deb ...\n",
            "Unpacking libgail18:amd64 (2.24.32-1ubuntu1) ...\n",
            "Selecting previously unselected package libgail-common:amd64.\n",
            "Preparing to unpack .../3-libgail-common_2.24.32-1ubuntu1_amd64.deb ...\n",
            "Unpacking libgail-common:amd64 (2.24.32-1ubuntu1) ...\n",
            "Selecting previously unselected package libxdot4.\n",
            "Preparing to unpack .../4-libxdot4_2.40.1-2_amd64.deb ...\n",
            "Unpacking libxdot4 (2.40.1-2) ...\n",
            "Selecting previously unselected package libgvc6-plugins-gtk.\n",
            "Preparing to unpack .../5-libgvc6-plugins-gtk_2.40.1-2_amd64.deb ...\n",
            "Unpacking libgvc6-plugins-gtk (2.40.1-2) ...\n",
            "Selecting previously unselected package libgraphviz-dev.\n",
            "Preparing to unpack .../6-libgraphviz-dev_2.40.1-2_amd64.deb ...\n",
            "Unpacking libgraphviz-dev (2.40.1-2) ...\n",
            "Selecting previously unselected package libgtk2.0-bin.\n",
            "Preparing to unpack .../7-libgtk2.0-bin_2.24.32-1ubuntu1_amd64.deb ...\n",
            "Unpacking libgtk2.0-bin (2.24.32-1ubuntu1) ...\n",
            "Setting up libgtk2.0-common (2.24.32-1ubuntu1) ...\n",
            "Setting up libxdot4 (2.40.1-2) ...\n",
            "Setting up libgtk2.0-0:amd64 (2.24.32-1ubuntu1) ...\n",
            "Setting up libgail18:amd64 (2.24.32-1ubuntu1) ...\n",
            "Setting up libgail-common:amd64 (2.24.32-1ubuntu1) ...\n",
            "Setting up libgvc6-plugins-gtk (2.40.1-2) ...\n",
            "Setting up libgraphviz-dev (2.40.1-2) ...\n",
            "Setting up libgtk2.0-bin (2.24.32-1ubuntu1) ...\n",
            "Processing triggers for man-db (2.8.3-2ubuntu0.1) ...\n",
            "Processing triggers for libc-bin (2.27-3ubuntu1.6) ...\n",
            "Looking in indexes: https://pypi.org/simple, https://us-python.pkg.dev/colab-wheels/public/simple/\n",
            "Collecting pygraphviz\n",
            "  Downloading pygraphviz-1.7.zip (118 kB)\n",
            "\u001b[K     |████████████████████████████████| 118 kB 4.1 MB/s \n",
            "\u001b[?25hBuilding wheels for collected packages: pygraphviz\n",
            "  Building wheel for pygraphviz (setup.py) ... \u001b[?25l\u001b[?25hdone\n",
            "  Created wheel for pygraphviz: filename=pygraphviz-1.7-cp37-cp37m-linux_x86_64.whl size=165747 sha256=1a9dd29433d1c2b8ecddf37712ad97620fa31b809939189454151c5ae5408a62\n",
            "  Stored in directory: /root/.cache/pip/wheels/8c/bc/0c/ac35392b72556e75107ff610cb31b313e8471918a6d280e34c\n",
            "Successfully built pygraphviz\n",
            "Installing collected packages: pygraphviz\n",
            "Successfully installed pygraphviz-1.7\n"
          ]
        }
      ]
    },
    {
      "cell_type": "markdown",
      "metadata": {
        "id": "l7sIeECaus3o"
      },
      "source": [
        "---\n",
        "# 2. Specify the problem and the causal graph\n",
        "---\n",
        "\n",
        "\"Increased levels of systolic blood pressure over time are associated with increased cardio-vascular morbidity and mortality. Summative evidence shows that exceeding the recommendations for 24-hour dietary sodium (SD) intake in grams (gr) is associated with increased levels of systolic blood pressure (BP) in mmHg. Furthermore, with advancing age, the kidney undergoes several anatomical and physiological changes that limit the adaptive mechanism responsible for maintaining the composition and volume of the extracellular fluid. These include a decline in glomerular filtration rate and the impaired ability to maintain water and sodium homeostasis in response to dietary and environmental changes. Likewise, age is associated with structural changes in the arteries and thus BP. Age is a common cause of both high SBP and impaired sodium homeostasis. Thus age acts as a confounder for the association between sodium intake and BP.\"\n",
        "\n",
        "\"However, high levels of 24-hour excretion of urinary protein (proteinuria) are caused by sustained high BP and increased 24-hour dietary sodium intake. Therefore, proteinuria (PR) acts as a collider via the path SD -> PR <- BP.\"\n",
        "\n",
        "\n",
        "\n",
        "\n",
        "Reference: https://pubmed.ncbi.nlm.nih.gov/30561628/\n",
        "Link: https://watzilei.com/shiny/collider/"
      ]
    },
    {
      "cell_type": "code",
      "metadata": {
        "colab": {
          "base_uri": "https://localhost:8080/"
        },
        "id": "RZ9VQktztNBy",
        "outputId": "caba1b4f-1611-4de4-d4f7-60dbd1a388e6"
      },
      "source": [
        "## Build the causal graph and display it\n",
        "# A directed graph\n",
        "graph = nx.DiGraph()\n",
        "# Add edges\n",
        "graph.add_edge(\"SD\",\"BP\")\n",
        "graph.add_edge(\"SD\",\"PR\")\n",
        "graph.add_edge(\"BP\",\"PR\")\n",
        "graph.add_edge(\"AGE\",\"SD\")\n",
        "graph.add_edge(\"AGE\",\"BP\")\n",
        "\n",
        "# Set layout and draw the causal graph\n",
        "nx.draw(graph, pos=nx.nx_agraph.graphviz_layout(graph), node_size=1200, font_size=10, node_color='#d4d1c5', with_labels=True)"
      ],
      "execution_count": null,
      "outputs": [
        {
          "output_type": "display_data",
          "data": {
            "text/plain": [
              "<Figure size 432x288 with 1 Axes>"
            ],
            "image/png": "[encoded data removed]"
          },
          "metadata": {}
        }
      ]
    },
    {
      "cell_type": "markdown",
      "metadata": {
        "id": "h3fwBsgT0WrF"
      },
      "source": [
        "---\n",
        "# 3. Generate data set\n",
        "---\n",
        "\"The data generation for the simulation is based on the structural relationship between the variables depicted on the Directed Acyclic Graph. We simulated 24-hour excretion of urinary protein as a function of age, SBP, and sodium intake. We assured that the range of values of the simulated data was biologically plausible and as close to reality as possible\"\n",
        "\n",
        "Reference: https://pubmed.ncbi.nlm.nih.gov/30561628/\n",
        "Link: https://watzilei.com/shiny/collider/"
      ]
    },
    {
      "cell_type": "markdown",
      "metadata": {
        "id": "ej6Vy2ZqBRKR"
      },
      "source": [
        "---\n",
        "3.1. Define a function to generate data\n",
        "---"
      ]
    },
    {
      "cell_type": "code",
      "metadata": {
        "id": "LNcOJT9MBObP"
      },
      "source": [
        "def generateData(n=1000, seed=0, beta=1.05, alpha1=0.4, alpha2=0.3):\n",
        "    # Seed random number generator\n",
        "    np.random.seed(seed)\n",
        "\n",
        "    # generate age with mean 65 years and standard deviation 5 years\n",
        "    # age = f(U_age)\n",
        "    age = np.random.normal(65, 5, n)\n",
        "\n",
        "    # generate sodium level based on age\n",
        "    # sodium = f(age, U_sodium)\n",
        "    sodium = age / 18 + np.random.normal(size = n)\n",
        "\n",
        "    # Treatment threshold\n",
        "    # if sodium < 3.5 then treatment = 0\n",
        "    # if sodium >= 3.5 then treatment = 1\n",
        "    binaryTreatmentThreshold=3.5\n",
        "    #sodium = (sodium > binaryTreatmentThreshold).astype(int)\n",
        "\n",
        "    # generate blood pressure based on sodium and age.\n",
        "    # bloodPressure = f(sodium, age, U_bloodPressure)\n",
        "    bloodPressure = beta * sodium + 2 * age + np.random.normal(size = n)\n",
        "\n",
        "    # generate proteinuria based on sodium and blood pressure\n",
        "    # proteinuria = f(sodium, bloodPressure, U_proteinuria)\n",
        "    proteinuria = alpha1 * sodium + alpha2 * bloodPressure + np.random.normal(size = n)\n",
        "\n",
        "    # combine all variables and return a dataframe\n",
        "    return pd.DataFrame({'sodium':sodium, 'age':age, 'proteinuria':proteinuria,'bloodPressure':bloodPressure})"
      ],
      "execution_count": null,
      "outputs": []
    },
    {
      "cell_type": "markdown",
      "metadata": {
        "id": "hTqZSrse268a"
      },
      "source": [
        "---\n",
        "3.2 Generate data set\n",
        "---\n"
      ]
    },
    {
      "cell_type": "code",
      "metadata": {
        "colab": {
          "base_uri": "https://localhost:8080/",
          "height": 206
        },
        "id": "FFVnH9_W2DAc",
        "outputId": "d5dd5dd4-7a8b-43f6-f5e9-7d61ee7e9987"
      },
      "source": [
        "dataset = generateData(n=10000, beta=1.05, alpha1=0.4, alpha2=0.3)\n",
        "dataset.head()"
      ],
      "execution_count": null,
      "outputs": [
        {
          "output_type": "execute_result",
          "data": {
            "text/plain": [
              "     sodium        age  proteinuria  bloodPressure\n",
              "0  3.899009  73.820262    47.550194     152.064528\n",
              "1  2.889035  67.000786    42.570771     137.034579\n",
              "2  5.616583  69.893690    46.701630     146.502908\n",
              "3  4.424230  76.204466    49.149768     157.482588\n",
              "4  3.952067  74.337790    47.330976     150.321303"
            ],
            "text/html": [
              "\n",
              "  <div id=\"df-2b63f540-8cab-41c9-bb33-336e67e64e2f\">\n",
              "    <div class=\"colab-df-container\">\n",
              "      <div>\n",
              "<style scoped>\n",
              "    .dataframe tbody tr th:only-of-type {\n",
              "        vertical-align: middle;\n",
              "    }\n",
              "\n",
              "    .dataframe tbody tr th {\n",
              "        vertical-align: top;\n",
              "    }\n",
              "\n",
              "    .dataframe thead th {\n",
              "        text-align: right;\n",
              "    }\n",
              "</style>\n",
              "<table border=\"1\" class=\"dataframe\">\n",
              "  <thead>\n",
              "    <tr style=\"text-align: right;\">\n",
              "      <th></th>\n",
              "      <th>sodium</th>\n",
              "      <th>age</th>\n",
              "      <th>proteinuria</th>\n",
              "      <th>bloodPressure</th>\n",
              "    </tr>\n",
              "  </thead>\n",
              "  <tbody>\n",
              "    <tr>\n",
              "      <th>0</th>\n",
              "      <td>3.899009</td>\n",
              "      <td>73.820262</td>\n",
              "      <td>47.550194</td>\n",
              "      <td>152.064528</td>\n",
              "    </tr>\n",
              "    <tr>\n",
              "      <th>1</th>\n",
              "      <td>2.889035</td>\n",
              "      <td>67.000786</td>\n",
              "      <td>42.570771</td>\n",
              "      <td>137.034579</td>\n",
              "    </tr>\n",
              "    <tr>\n",
              "      <th>2</th>\n",
              "      <td>5.616583</td>\n",
              "      <td>69.893690</td>\n",
              "      <td>46.701630</td>\n",
              "      <td>146.502908</td>\n",
              "    </tr>\n",
              "    <tr>\n",
              "      <th>3</th>\n",
              "      <td>4.424230</td>\n",
              "      <td>76.204466</td>\n",
              "      <td>49.149768</td>\n",
              "      <td>157.482588</td>\n",
              "    </tr>\n",
              "    <tr>\n",
              "      <th>4</th>\n",
              "      <td>3.952067</td>\n",
              "      <td>74.337790</td>\n",
              "      <td>47.330976</td>\n",
              "      <td>150.321303</td>\n",
              "    </tr>\n",
              "  </tbody>\n",
              "</table>\n",
              "</div>\n",
              "      <button class=\"colab-df-convert\" onclick=\"convertToInteractive('df-2b63f540-8cab-41c9-bb33-336e67e64e2f')\"\n",
              "              title=\"Convert this dataframe to an interactive table.\"\n",
              "              style=\"display:none;\">\n",
              "        \n",
              "  <svg xmlns=\"http://www.w3.org/2000/svg\" height=\"24px\"viewBox=\"0 0 24 24\"\n",
              "       width=\"24px\">\n",
              "    <path d=\"M0 0h24v24H0V0z\" fill=\"none\"/>\n",
              "    <path d=\"M18.56 5.44l.94 2.06.94-2.06 2.06-.94-2.06-.94-.94-2.06-.94 2.06-2.06.94zm-11 1L8.5 8.5l.94-2.06 2.06-.94-2.06-.94L8.5 2.5l-.94 2.06-2.06.94zm10 10l.94 2.06.94-2.06 2.06-.94-2.06-.94-.94-2.06-.94 2.06-2.06.94z\"/><path d=\"M17.41 7.96l-1.37-1.37c-.4-.4-.92-.59-1.43-.59-.52 0-1.04.2-1.43.59L10.3 9.45l-7.72 7.72c-.78.78-.78 2.05 0 2.83L4 21.41c.39.39.9.59 1.41.59.51 0 1.02-.2 1.41-.59l7.78-7.78 2.81-2.81c.8-.78.8-2.07 0-2.86zM5.41 20L4 18.59l7.72-7.72 1.47 1.35L5.41 20z\"/>\n",
              "  </svg>\n",
              "      </button>\n",
              "      \n",
              "  <style>\n",
              "    .colab-df-container {\n",
              "      display:flex;\n",
              "      flex-wrap:wrap;\n",
              "      gap: 12px;\n",
              "    }\n",
              "\n",
              "    .colab-df-convert {\n",
              "      background-color: #E8F0FE;\n",
              "      border: none;\n",
              "      border-radius: 50%;\n",
              "      cursor: pointer;\n",
              "      display: none;\n",
              "      fill: #1967D2;\n",
              "      height: 32px;\n",
              "      padding: 0 0 0 0;\n",
              "      width: 32px;\n",
              "    }\n",
              "\n",
              "    .colab-df-convert:hover {\n",
              "      background-color: #E2EBFA;\n",
              "      box-shadow: 0px 1px 2px rgba(60, 64, 67, 0.3), 0px 1px 3px 1px rgba(60, 64, 67, 0.15);\n",
              "      fill: #174EA6;\n",
              "    }\n",
              "\n",
              "    [theme=dark] .colab-df-convert {\n",
              "      background-color: #3B4455;\n",
              "      fill: #D2E3FC;\n",
              "    }\n",
              "\n",
              "    [theme=dark] .colab-df-convert:hover {\n",
              "      background-color: #434B5C;\n",
              "      box-shadow: 0px 1px 3px 1px rgba(0, 0, 0, 0.15);\n",
              "      filter: drop-shadow(0px 1px 2px rgba(0, 0, 0, 0.3));\n",
              "      fill: #FFFFFF;\n",
              "    }\n",
              "  </style>\n",
              "\n",
              "      <script>\n",
              "        const buttonEl =\n",
              "          document.querySelector('#df-2b63f540-8cab-41c9-bb33-336e67e64e2f button.colab-df-convert');\n",
              "        buttonEl.style.display =\n",
              "          google.colab.kernel.accessAllowed ? 'block' : 'none';\n",
              "\n",
              "        async function convertToInteractive(key) {\n",
              "          const element = document.querySelector('#df-2b63f540-8cab-41c9-bb33-336e67e64e2f');\n",
              "          const dataTable =\n",
              "            await google.colab.kernel.invokeFunction('convertToInteractive',\n",
              "                                                     [key], {});\n",
              "          if (!dataTable) return;\n",
              "\n",
              "          const docLinkHtml = 'Like what you see? Visit the ' +\n",
              "            '<a target=\"_blank\" href=https://colab.research.google.com/notebooks/data_table.ipynb>data table notebook</a>'\n",
              "            + ' to learn more about interactive tables.';\n",
              "          element.innerHTML = '';\n",
              "          dataTable['output_type'] = 'display_data';\n",
              "          await google.colab.output.renderOutput(dataTable, element);\n",
              "          const docLink = document.createElement('div');\n",
              "          docLink.innerHTML = docLinkHtml;\n",
              "          element.appendChild(docLink);\n",
              "        }\n",
              "      </script>\n",
              "    </div>\n",
              "  </div>\n",
              "  "
            ]
          },
          "metadata": {},
          "execution_count": 4
        }
      ]
    },
    {
      "cell_type": "markdown",
      "metadata": {
        "id": "2VJxz-vR4dWD"
      },
      "source": [
        "---\n",
        "4.1 Causal effect estimation: Define a function for causal effect estimation\n",
        "---"
      ]
    },
    {
      "cell_type": "code",
      "metadata": {
        "id": "7tnyxdzz2xmA"
      },
      "source": [
        "# An approach to causal effect estimation\n",
        "def causalEffectEstimation(data, xColumns, zColumns, yColumns, model = RandomForestClassifier(n_estimators=10)):\n",
        "    # separate data into treatment, adjustment set, outcome\n",
        "    # treatment, X\n",
        "    trainX = data[xColumns]\n",
        "    # adjustment set, Z\n",
        "    trainZ = data[zColumns]\n",
        "    # outcome, Y\n",
        "    trainY = data[yColumns]\n",
        "\n",
        "    # merge treatment, X and adjustment, Z\n",
        "    trainXZ = pd.concat([trainX, trainZ], axis = 1)\n",
        "\n",
        "    # we fit an ML model\n",
        "    model.fit(trainXZ, trainY)\n",
        "\n",
        "    ## Causal effect estimation\n",
        "\n",
        "    # do(X=0): Set sodium (SD), X = 0.  That is, SD < 3.5\n",
        "    testXZPlacebo = trainXZ.copy()\n",
        "    testXZPlacebo[xColumns] = 0\n",
        "    # do(X=1): Set sodium (SD), X = 1.  That is, SD >= 3.5\n",
        "    testXZTreatment = trainXZ.copy()\n",
        "    testXZTreatment[xColumns] = 1\n",
        "\n",
        "    # Estimate P(y|do(X=0))\n",
        "    placeboEstimate = np.mean(model.predict(testXZPlacebo))\n",
        "    # Estimate P(y|do(X=1))\n",
        "    treatmentEstimate = np.mean(model.predict(testXZTreatment))\n",
        "\n",
        "    # Estimate the causal effect: P(y|do(X=1)) - P(y|do(X=0))\n",
        "    causalEffect = treatmentEstimate - placeboEstimate\n",
        "\n",
        "    # Print results:\n",
        "    print('Placebo estimate:' + str(placeboEstimate))\n",
        "    print('Treatment estimate:' + str(treatmentEstimate))\n",
        "    print('Causal effect:' + str(causalEffect))"
      ],
      "execution_count": null,
      "outputs": []
    },
    {
      "cell_type": "markdown",
      "metadata": {
        "id": "PNZJXdIf4zam"
      },
      "source": [
        "---\n",
        "4.2 Results and analysis\n",
        "---"
      ]
    },
    {
      "cell_type": "code",
      "metadata": {
        "colab": {
          "base_uri": "https://localhost:8080/"
        },
        "id": "BTms12pX4zw4",
        "outputId": "cf168ac4-cae8-4e78-f849-de3b41afc433"
      },
      "source": [
        "# Adjust both age and proteinuria\n",
        "xColumns = ['sodium']\n",
        "zColumns = ['age', 'proteinuria']\n",
        "yColumns = ['bloodPressure']\n",
        "causalEffectEstimation(dataset, xColumns, zColumns, yColumns, LinearRegression())"
      ],
      "execution_count": null,
      "outputs": [
        {
          "output_type": "stream",
          "name": "stdout",
          "text": [
            "Placebo estimate:130.51523845236562\n",
            "Treatment estimate:131.37025845224255\n",
            "Causal effect:0.8550199998769301\n"
          ]
        }
      ]
    },
    {
      "cell_type": "code",
      "metadata": {
        "colab": {
          "base_uri": "https://localhost:8080/"
        },
        "id": "l3W6dSdN5ahC",
        "outputId": "6054389b-1ec8-48b6-8f3a-bf4589633ed5"
      },
      "source": [
        "# adjust nothing\n",
        "xColumns = ['sodium']\n",
        "zColumns = []\n",
        "yColumns = ['bloodPressure']\n",
        "causalEffectEstimation(dataset, xColumns, zColumns, yColumns, LinearRegression())"
      ],
      "execution_count": null,
      "outputs": [
        {
          "output_type": "stream",
          "name": "stdout",
          "text": [
            "Placebo estimate:120.77742216788377\n",
            "Treatment estimate:124.3246937003098\n",
            "Causal effect:3.5472715324260236\n"
          ]
        }
      ]
    },
    {
      "cell_type": "code",
      "metadata": {
        "colab": {
          "base_uri": "https://localhost:8080/"
        },
        "id": "BfdQputA5mMu",
        "outputId": "817bf13b-4b9c-4060-f652-598003cc1c54"
      },
      "source": [
        "# adjust age\n",
        "xColumns = ['sodium']\n",
        "zColumns = ['age']\n",
        "yColumns = ['bloodPressure']\n",
        "causalEffectEstimation(dataset, xColumns, zColumns, yColumns, LinearRegression())"
      ],
      "execution_count": null,
      "outputs": [
        {
          "output_type": "stream",
          "name": "stdout",
          "text": [
            "Placebo estimate:129.78610272729128\n",
            "Treatment estimate:130.84270968628923\n",
            "Causal effect:1.0566069589979463\n"
          ]
        }
      ]
    }
  ]
}